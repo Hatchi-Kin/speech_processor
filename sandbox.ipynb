{
 "cells": [
  {
   "cell_type": "code",
   "execution_count": 1,
   "metadata": {},
   "outputs": [],
   "source": [
    "import os\n",
    "import json\n",
    "from dotenv import load_dotenv\n",
    "load_dotenv() \n",
    "\n",
    "from SpeechProcessor import SpeechProcessor"
   ]
  },
  {
   "cell_type": "code",
   "execution_count": 2,
   "metadata": {},
   "outputs": [],
   "source": [
    "processor = SpeechProcessor(\n",
    "    # api_key=\"your_api_key\", \n",
    "    enable_logging=False, \n",
    "    speech_model='nano' #  or 'best'\n",
    "    )\n",
    "\n",
    "audio_file_path = \"from_yt/IT_sample.mp3\""
   ]
  },
  {
   "cell_type": "code",
   "execution_count": 3,
   "metadata": {},
   "outputs": [
    {
     "name": "stdout",
     "output_type": "stream",
     "text": [
      "{\n",
      "    \"filename\": \"IT_sample.mp3\",\n",
      "    \"detected_language\": \"it\",\n",
      "    \"transcript\": \"Ciao a tutti e bentornati oppure benvenuti sul mio canale, in questo video condivido con voi alcuni momenti e pensieri degli ultimi giorni.\"\n",
      "}\n"
     ]
    }
   ],
   "source": [
    "# 1. Transcribe the audio file\n",
    "transcription_result = processor.transcribe(audio_file_path)\n",
    "print(json.dumps(transcription_result, indent=4, ensure_ascii=False))"
   ]
  },
  {
   "cell_type": "code",
   "execution_count": 4,
   "metadata": {},
   "outputs": [
    {
     "name": "stdout",
     "output_type": "stream",
     "text": [
      "{\n",
      "    \"filename\": \"IT_sample.mp3\",\n",
      "    \"original\": \"Ciao a tutti e bentornati oppure benvenuti sul mio canale, in questo video condivido con voi alcuni momenti e pensieri degli ultimi giorni.\",\n",
      "    \"detected_language\": \"it\",\n",
      "    \"translation\": \"Bonjour à tous et bon retour ou bienvenue sur ma chaîne, dans cette vidéo je partage avec vous quelques moments et réflexions de ces derniers jours.\",\n",
      "    \"target_language\": \"fr\"\n",
      "}\n"
     ]
    }
   ],
   "source": [
    "# 2. Translate the transcription to French\n",
    "translation_result = processor.translate(transcription_result, target_lang=\"fr\")\n",
    "print(json.dumps(translation_result, indent=4, ensure_ascii=False))"
   ]
  },
  {
   "cell_type": "code",
   "execution_count": 5,
   "metadata": {},
   "outputs": [
    {
     "name": "stdout",
     "output_type": "stream",
     "text": [
      "{\n",
      "    \"filename\": \"IT_sample.mp3\",\n",
      "    \"original\": \"Ciao a tutti e bentornati oppure benvenuti sul mio canale, in questo video condivido con voi alcuni momenti e pensieri degli ultimi giorni.\",\n",
      "    \"detected_language\": \"it\",\n",
      "    \"translation\": \"Bonjour à tous et bon retour ou bienvenue sur ma chaîne, dans cette vidéo je partage avec vous quelques moments et réflexions de ces derniers jours.\",\n",
      "    \"target_language\": \"fr\"\n",
      "}\n"
     ]
    }
   ],
   "source": [
    "# 3. Transcribe and translate the audio file to French in one step\n",
    "transcribe_translate_result = processor.transcribe_and_translate(audio_file_path, target_lang=\"fr\")\n",
    "print(json.dumps(transcribe_translate_result, indent=4, ensure_ascii=False))"
   ]
  },
  {
   "cell_type": "code",
   "execution_count": 6,
   "metadata": {},
   "outputs": [
    {
     "name": "stdout",
     "output_type": "stream",
     "text": [
      "{\n",
      "    \"filename\": \"JA_sample.mp3\",\n",
      "    \"original\": \"今日は何時に起きましたか?私は朝8時くらいに起きましたそして、もう1回寝て、さっき、さっき、\",\n",
      "    \"detected_language\": \"ja\",\n",
      "    \"translation\": \"À quelle heure t'es-tu réveillé aujourd'hui ? Je me suis réveillé vers 8 heures du matin et puis je me suis rendormi et tout à l'heure, tout à l'heure.\",\n",
      "    \"target_language\": \"fr\"\n",
      "}\n",
      "\n",
      "{\n",
      "    \"filename\": \"EN_sample.mp3\",\n",
      "    \"original\": \"In 1999, when people thought they had seen it all in CGI. A film called the Matrix arrived right in the very first scene, before you barely settled down in your seat. Schw.\",\n",
      "    \"detected_language\": \"en\",\n",
      "    \"translation\": \"En 1999, quand les gens pensaient avoir tout vu en CGI, un film intitulé Matrix est arrivé dès la toute première scène, avant même que vous ne vous installiez à votre place. Schw.\",\n",
      "    \"target_language\": \"fr\"\n",
      "}\n",
      "\n",
      "{\n",
      "    \"filename\": \"IT_sample.mp3\",\n",
      "    \"original\": \"Ciao a tutti e bentornati oppure benvenuti sul mio canale, in questo video condivido con voi alcuni momenti e pensieri degli ultimi giorni.\",\n",
      "    \"detected_language\": \"it\",\n",
      "    \"translation\": \"Bonjour à tous et bon retour ou bienvenue sur ma chaîne, dans cette vidéo je partage avec vous quelques moments et réflexions de ces derniers jours.\",\n",
      "    \"target_language\": \"fr\"\n",
      "}\n",
      "\n",
      "{\n",
      "    \"filename\": \"FR_sample.mp3\",\n",
      "    \"original\": \"Il y a plein de gens qui publieront rien sur leur instagram. Moi j 'aime bien mettre des photos, avec des copains, en scrim de ma course quand j 'avoue je suis plutôt fière d 'avoir couru, ...\",\n",
      "    \"detected_language\": \"fr\",\n",
      "    \"translation\": \"Il y a plein de gens qui publieront rien sur leur instagram. Moi j 'aime bien mettre des photos, avec des copains, en scrim de ma course quand j 'avoue je suis plutôt fière d 'avoir couru, ...\",\n",
      "    \"target_language\": \"fr\"\n",
      "}\n",
      "\n",
      "{\n",
      "    \"filename\": \"ES_sample.mp3\",\n",
      "    \"original\": \"¿A qué hora te levantas? ¿Yo a las 7:45, y tú? ¿Sara? ¿Me has copiado? Yo a la misma hora.\",\n",
      "    \"detected_language\": \"es\",\n",
      "    \"translation\": \"À quelle heure vous levez-vous? Moi à 7h45, et toi ? Sarah ? M'as-tu copié ? Moi en même temps.\",\n",
      "    \"target_language\": \"fr\"\n",
      "}\n",
      "\n"
     ]
    }
   ],
   "source": [
    "ogg_files = [os.path.join('from_yt', file) for file in os.listdir('from_yt') if file.endswith('.ogg') or file.endswith('.mp3')]\n",
    "for file in ogg_files:\n",
    "    full_process_result = processor.transcribe_and_translate(file, \"fr\")\n",
    "    print(json.dumps(full_process_result, indent=4, ensure_ascii=False))\n",
    "    print()"
   ]
  }
 ],
 "metadata": {
  "kernelspec": {
   "display_name": ".venv",
   "language": "python",
   "name": "python3"
  },
  "language_info": {
   "codemirror_mode": {
    "name": "ipython",
    "version": 3
   },
   "file_extension": ".py",
   "mimetype": "text/x-python",
   "name": "python",
   "nbconvert_exporter": "python",
   "pygments_lexer": "ipython3",
   "version": "3.10.12"
  }
 },
 "nbformat": 4,
 "nbformat_minor": 2
}
